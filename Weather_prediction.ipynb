{
  "nbformat": 4,
  "nbformat_minor": 0,
  "metadata": {
    "colab": {
      "provenance": [],
      "authorship_tag": "ABX9TyOGdsw2hYY6YPz8haBvIPMP",
      "include_colab_link": true
    },
    "kernelspec": {
      "name": "python3",
      "display_name": "Python 3"
    },
    "language_info": {
      "name": "python"
    }
  },
  "cells": [
    {
      "cell_type": "markdown",
      "metadata": {
        "id": "view-in-github",
        "colab_type": "text"
      },
      "source": [
        "<a href=\"https://colab.research.google.com/github/benasphy/Naive-bayes/blob/main/Weather_prediction.ipynb\" target=\"_parent\"><img src=\"https://colab.research.google.com/assets/colab-badge.svg\" alt=\"Open In Colab\"/></a>"
      ]
    },
    {
      "cell_type": "code",
      "execution_count": 4,
      "metadata": {
        "colab": {
          "base_uri": "https://localhost:8080/"
        },
        "id": "txeZ41cKJU1S",
        "outputId": "16e8f342-d6d3-4773-873d-89f435269005"
      },
      "outputs": [
        {
          "output_type": "stream",
          "name": "stdout",
          "text": [
            "Prediction for Sunny:  Yes\n",
            "Model accuracy: 33.33%\n"
          ]
        },
        {
          "output_type": "stream",
          "name": "stderr",
          "text": [
            "/usr/local/lib/python3.10/dist-packages/sklearn/base.py:493: UserWarning: X does not have valid feature names, but CategoricalNB was fitted with feature names\n",
            "  warnings.warn(\n"
          ]
        }
      ],
      "source": [
        "#Importing Libraries\n",
        "\n",
        "import pandas as pd\n",
        "from sklearn.model_selection import train_test_split\n",
        "from sklearn.naive_bayes import CategoricalNB\n",
        "from sklearn.preprocessing import LabelEncoder\n",
        "from sklearn.metrics import accuracy_score\n",
        "\n",
        "#Loading Data\n",
        "data = {\n",
        "    \"Weather\": [\n",
        "        \"Sunny\", \"Overcast\", \"Rainy\",\"Sunny\", \"Sunny\", \"Overcast\", \"Rainy\", \"Rainy\", \"Sunny\", \"Rainy\", \"Sunny\", \"Overcast\", \"Overcast\", \"Rainy\"\n",
        "    ],\n",
        "    \"Play\": [\n",
        "        \"No\", \"Yes\", \"Yes\", \"Yes\", \"Yes\", \"Yes\", \"No\", \"No\", \"Yes\", \"Yes\", \"No\", \"Yes\", \"Yes\", \"No\"\n",
        "    ]\n",
        "}\n",
        "\n",
        "#Converting to DataFrame\n",
        "\n",
        "df = pd.DataFrame(data)\n",
        "\n",
        "#Encoding\n",
        "\n",
        "la_weather = LabelEncoder()\n",
        "la_play = LabelEncoder()\n",
        "\n",
        "df[\"Weather_encoded\"] = la_weather.fit_transform(df[\"Weather\"])\n",
        "df[\"Play_encoded\"] = la_play.fit_transform(df[\"Play\"])\n",
        "\n",
        "#Features and Target\n",
        "\n",
        "X = df[[\"Weather_encoded\"]]\n",
        "y = df[\"Play_encoded\"]\n",
        "\n",
        "#Train Test split\n",
        "\n",
        "X_train, X_test, y_train, y_test = train_test_split(X, y, test_size = 0.2, random_state = 42)\n",
        "\n",
        "#Train the model\n",
        "\n",
        "model = CategoricalNB()\n",
        "model.fit(X_train, y_train)\n",
        "\n",
        "#Predict for sunny Environment\n",
        "\n",
        "sunny_encoded = la_weather.transform([\"Sunny\"])[0]\n",
        "prediction = model.predict([[sunny_encoded]])\n",
        "\n",
        "#Decoding the prediction\n",
        "\n",
        "predicted_label = la_play.inverse_transform(prediction)\n",
        "\n",
        "print(f\"Prediction for Sunny:  {predicted_label[0]}\")\n",
        "\n",
        "#Evaluation\n",
        "\n",
        "predictions = model.predict(X_test)\n",
        "accuracy = accuracy_score(y_test, predictions)\n",
        "print(f\"Model accuracy: {accuracy * 100:.2f}%\")"
      ]
    }
  ]
}