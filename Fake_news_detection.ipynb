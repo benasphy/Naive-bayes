{
  "nbformat": 4,
  "nbformat_minor": 0,
  "metadata": {
    "colab": {
      "provenance": [],
      "authorship_tag": "ABX9TyOsPG8V4kjwz0nQrdlAq2ar",
      "include_colab_link": true
    },
    "kernelspec": {
      "name": "python3",
      "display_name": "Python 3"
    },
    "language_info": {
      "name": "python"
    }
  },
  "cells": [
    {
      "cell_type": "markdown",
      "metadata": {
        "id": "view-in-github",
        "colab_type": "text"
      },
      "source": [
        "<a href=\"https://colab.research.google.com/github/benasphy/Naive-bayes/blob/main/Fake_news_detection.ipynb\" target=\"_parent\"><img src=\"https://colab.research.google.com/assets/colab-badge.svg\" alt=\"Open In Colab\"/></a>"
      ]
    },
    {
      "cell_type": "code",
      "execution_count": 10,
      "metadata": {
        "colab": {
          "base_uri": "https://localhost:8080/"
        },
        "id": "1HCWmgtqAFqI",
        "outputId": "69163054-7e73-43a1-bca6-5d7b75055c3d"
      },
      "outputs": [
        {
          "output_type": "stream",
          "name": "stdout",
          "text": [
            "       Unnamed: 0                                              title  \\\n",
            "0               0  Palestinians switch off Christmas lights in Be...   \n",
            "1               1  China says Trump call with Taiwan president wo...   \n",
            "2               2   FAIL! The Trump Organization’s Credit Score W...   \n",
            "3               3  Zimbabwe military chief's China trip was norma...   \n",
            "4               4  THE MOST UNCOURAGEOUS PRESIDENT EVER Receives ...   \n",
            "...           ...                                                ...   \n",
            "24348       24348  Mexico Senate committee OK's air transport dea...   \n",
            "24349       24349  BREAKING: HILLARY CLINTON’S STATE DEPARTMENT G...   \n",
            "24350       24350  trump breaks from stump speech to admire beaut...   \n",
            "24351       24351  NFL PLAYER Delivers Courageous Message: Stop B...   \n",
            "24352       24352  NORDSTROM STOCK TAKES NOSEDIVE After Trump Twe...   \n",
            "\n",
            "                                                    text  label  \n",
            "0      RAMALLAH, West Bank (Reuters) - Palestinians s...      1  \n",
            "1      BEIJING (Reuters) - U.S. President-elect Donal...      1  \n",
            "2      While the controversy over Trump s personal ta...      0  \n",
            "3      BEIJING (Reuters) - A trip to Beijing last wee...      1  \n",
            "4      There has never been a more UNCOURAGEOUS perso...      0  \n",
            "...                                                  ...    ...  \n",
            "24348  MEXICO CITY (Reuters) - A key committee in Mex...      1  \n",
            "24349  IF SHE S NOT TOAST NOW THEN WE RE IN BIGGER TR...      0  \n",
            "24350  kremlin nato was created for agression  \\nruss...      0  \n",
            "24351  Dallas Cowboys star wide receiver Dez Bryant t...      0  \n",
            "24352  UPDATE: Nordstrom stock closed up slightly tod...      0  \n",
            "\n",
            "[24353 rows x 4 columns]\n",
            "Accuracy: 0.93\n",
            "Enter a news article to check: Aliens Spotted in California, Government Confirms!\n",
            "Prediction: 0\n"
          ]
        }
      ],
      "source": [
        "import pandas as pd\n",
        "from sklearn.model_selection import train_test_split\n",
        "from sklearn.feature_extraction.text import CountVectorizer\n",
        "from sklearn.naive_bayes import MultinomialNB\n",
        "from sklearn.metrics import accuracy_score\n",
        "\n",
        "# Load the dataset, specifying the delimiter as ';'\n",
        "df = pd.read_csv(\"/content/train (2).csv\", on_bad_lines='skip', sep=';')\n",
        "print(df)\n",
        "\n",
        "\n",
        "# Preprocessing\n",
        "X = df[['title', 'text']]\n",
        "y = df['label']  # 'FAKE' or 'REAL'\n",
        "\n",
        "# Vectorize text\n",
        "vectorizer = CountVectorizer(stop_words='english')\n",
        "X_vec = vectorizer.fit_transform(X.apply(lambda x: ' '.join(x.astype(str)), axis=1)) # joining 'title' and 'text' columns\n",
        "\n",
        "# Split data\n",
        "X_train, X_test, y_train, y_test = train_test_split(X_vec, y, test_size=0.2, random_state=42)\n",
        "\n",
        "# Train the model\n",
        "model = MultinomialNB()\n",
        "model.fit(X_train, y_train)\n",
        "\n",
        "# Evaluate\n",
        "predictions = model.predict(X_test)\n",
        "print(f\"Accuracy: {accuracy_score(y_test, predictions):.2f}\")\n",
        "\n",
        "# Predict custom input\n",
        "def predict_news(news_text):\n",
        "    vec = vectorizer.transform([news_text])\n",
        "    return model.predict(vec)[0]\n",
        "\n",
        "# Try it\n",
        "user_input = input(\"Enter a news article to check: \")\n",
        "print(\"Prediction:\", predict_news(user_input))"
      ]
    }
  ]
}