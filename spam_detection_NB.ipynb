{
  "nbformat": 4,
  "nbformat_minor": 0,
  "metadata": {
    "colab": {
      "provenance": [],
      "authorship_tag": "ABX9TyNQZwi86XVU2Q/fvGe1Hl0l",
      "include_colab_link": true
    },
    "kernelspec": {
      "name": "python3",
      "display_name": "Python 3"
    },
    "language_info": {
      "name": "python"
    }
  },
  "cells": [
    {
      "cell_type": "markdown",
      "metadata": {
        "id": "view-in-github",
        "colab_type": "text"
      },
      "source": [
        "<a href=\"https://colab.research.google.com/github/benasphy/Naive-bayes/blob/main/spam_detection_NB.ipynb\" target=\"_parent\"><img src=\"https://colab.research.google.com/assets/colab-badge.svg\" alt=\"Open In Colab\"/></a>"
      ]
    },
    {
      "cell_type": "code",
      "execution_count": 1,
      "metadata": {
        "colab": {
          "base_uri": "https://localhost:8080/",
          "height": 1000
        },
        "id": "aLO9xgqf-zrD",
        "outputId": "2290a45a-3eb4-493c-eb4e-b9d3ea07f1b4"
      },
      "outputs": [
        {
          "output_type": "stream",
          "name": "stdout",
          "text": [
            "<class 'pandas.core.frame.DataFrame'>\n",
            "RangeIndex: 5572 entries, 0 to 5571\n",
            "Data columns (total 2 columns):\n",
            " #   Column    Non-Null Count  Dtype \n",
            "---  ------    --------------  ----- \n",
            " 0   Category  5572 non-null   object\n",
            " 1   Message   5572 non-null   object\n",
            "dtypes: object(2)\n",
            "memory usage: 87.2+ KB\n",
            "  Category                                            Message\n",
            "0      ham  Go until jurong point, crazy.. Available only ...\n",
            "1      ham                      Ok lar... Joking wif u oni...\n",
            "2     spam  Free entry in 2 a wkly comp to win FA Cup fina...\n",
            "3      ham  U dun say so early hor... U c already then say...\n",
            "4      ham  Nah I don't think he goes to usf, he lives aro...\n",
            "Accuracy: 0.98\n",
            "              precision    recall  f1-score   support\n",
            "\n",
            "           0       0.97      1.00      0.99       966\n",
            "           1       1.00      0.83      0.90       149\n",
            "\n",
            "    accuracy                           0.98      1115\n",
            "   macro avg       0.99      0.91      0.95      1115\n",
            "weighted avg       0.98      0.98      0.98      1115\n",
            "\n"
          ]
        },
        {
          "output_type": "display_data",
          "data": {
            "text/plain": [
              "<Figure size 640x480 with 2 Axes>"
            ],
            "image/png": "[encoded data removed]"
          },
          "metadata": {}
        },
        {
          "output_type": "stream",
          "name": "stdout",
          "text": [
            "Message: Congratulations! You've won a free iPhone. Click here to claim your prize!\n",
            "Predicted Label: Spam\n",
            "\n",
            "Message: Hey, are we still meeting for lunch today?\n",
            "Predicted Label: Ham\n",
            "\n",
            "Message: URGENT: Your bank account has been compromised. Call this number immediately!\n",
            "Predicted Label: Ham\n",
            "\n"
          ]
        }
      ],
      "source": [
        "import pandas as pd\n",
        "import numpy as np\n",
        "import matplotlib.pyplot as plt\n",
        "import seaborn as sns\n",
        "from sklearn.model_selection import train_test_split\n",
        "from sklearn.feature_extraction.text import TfidfVectorizer\n",
        "from sklearn.naive_bayes import MultinomialNB\n",
        "from sklearn.metrics import accuracy_score, classification_report, confusion_matrix\n",
        "\n",
        "# Load the dataset\n",
        "data = pd.read_csv('/content/spam.csv', encoding='latin-1')\n",
        "\n",
        "# Display basic info and first few rows\n",
        "data.info()\n",
        "print(data.head())\n",
        "\n",
        "# Drop unnecessary columns if present\n",
        "data = data.iloc[:, :2]\n",
        "data.columns = ['label', 'message']\n",
        "\n",
        "# Encode labels (spam=1, ham=0)\n",
        "data['label'] = data['label'].map({'spam': 1, 'ham': 0})\n",
        "\n",
        "# Split data into features and target\n",
        "X = data['message']\n",
        "y = data['label']\n",
        "\n",
        "# Split into training and testing sets\n",
        "X_train, X_test, y_train, y_test = train_test_split(X, y, test_size=0.2, random_state=42)\n",
        "\n",
        "# Convert text to numerical features using TF-IDF Vectorization\n",
        "vectorizer = TfidfVectorizer(stop_words='english')\n",
        "X_train = vectorizer.fit_transform(X_train)\n",
        "X_test = vectorizer.transform(X_test)\n",
        "\n",
        "# Initialize and train the Naive Bayes model\n",
        "nb_model = MultinomialNB()\n",
        "nb_model.fit(X_train, y_train)\n",
        "\n",
        "# Make predictions\n",
        "y_pred = nb_model.predict(X_test)\n",
        "\n",
        "# Evaluate the model\n",
        "accuracy = accuracy_score(y_test, y_pred)\n",
        "print(f'Accuracy: {accuracy:.2f}')\n",
        "print(classification_report(y_test, y_pred))\n",
        "\n",
        "# Plot confusion matrix\n",
        "conf_matrix = confusion_matrix(y_test, y_pred)\n",
        "sns.heatmap(conf_matrix, annot=True, fmt='d', cmap='Blues', xticklabels=['Ham', 'Spam'], yticklabels=['Ham', 'Spam'])\n",
        "plt.xlabel('Predicted Label')\n",
        "plt.ylabel('True Label')\n",
        "plt.title('Confusion Matrix')\n",
        "plt.show()\n",
        "\n",
        "# Function to test new messages\n",
        "def predict_message(messages):\n",
        "    messages_transformed = vectorizer.transform(messages)\n",
        "    predictions = nb_model.predict(messages_transformed)\n",
        "    for msg, pred in zip(messages, predictions):\n",
        "        print(f'Message: {msg}\\nPredicted Label: {\"Spam\" if pred == 1 else \"Ham\"}\\n')\n",
        "\n",
        "# Example test cases\n",
        "new_messages = [\n",
        "    \"Congratulations! You've won a free iPhone. Click here to claim your prize!\",\n",
        "    \"Hey, are we still meeting for lunch today?\",\n",
        "    \"URGENT: Your bank account has been compromised. Call this number immediately!\"\n",
        "]\n",
        "\n",
        "predict_message(new_messages)"
      ]
    }
  ]
}